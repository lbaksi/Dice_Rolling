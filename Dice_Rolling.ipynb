{
 "cells": [
  {
   "cell_type": "code",
   "execution_count": 12,
   "metadata": {},
   "outputs": [
    {
     "name": "stdout",
     "output_type": "stream",
     "text": [
      "[1, 2, 3, 4, 5, 6]\n",
      "Thank you for playing, see you next time.\n"
     ]
    }
   ],
   "source": [
    "## create a variable for the numbers on the dice 1 to 6 - my dice has six sides\n",
    "## min no is 1 and max no is 6\n",
    "## every time the dice is rolled, the number will randomly appear\n",
    "## ask if you'd like to roll the dice again\n",
    "## If answer is yes, go back to random dice again and continue\n",
    "## If answer is not yes, print thank you and do not roll the dice, break\n",
    "\n",
    "\n",
    "my_dice = [1,2,3,4,5,6]\n",
    "print(my_dice)\n",
    "import random\n",
    "while True:\n",
    "    gamble_question = input('Would you like to roll the dice again? (yes or no)')\n",
    "    if gamble_question == 'Yes' or gamble_question == 'yes' or gamble_question == 'Y' or gamble_question == 'y':\n",
    "        print('Rolling again, good luck!', ':', random.choice(my_dice))\n",
    "        continue\n",
    "    if gamble_question == 'No' or gamble_question == 'no' or gamble_question == 'N' or gamble_question == 'n':\n",
    "        print('Thank you for playing, see you next time.')  \n",
    "        break\n",
    "\n",
    "\n",
    "\n"
   ]
  }
 ],
 "metadata": {
  "kernelspec": {
   "display_name": "Python 3",
   "language": "python",
   "name": "python3"
  },
  "language_info": {
   "codemirror_mode": {
    "name": "ipython",
    "version": 3
   },
   "file_extension": ".py",
   "mimetype": "text/x-python",
   "name": "python",
   "nbconvert_exporter": "python",
   "pygments_lexer": "ipython3",
   "version": "3.11.2"
  },
  "orig_nbformat": 4
 },
 "nbformat": 4,
 "nbformat_minor": 2
}
